{
 "metadata": {
  "language_info": {
   "codemirror_mode": {
    "name": "ipython",
    "version": 3
   },
   "file_extension": ".py",
   "mimetype": "text/x-python",
   "name": "python",
   "nbconvert_exporter": "python",
   "pygments_lexer": "ipython3",
   "version": "3.8.5-final"
  },
  "orig_nbformat": 2,
  "kernelspec": {
   "name": "Python 3.8.5 64-bit",
   "display_name": "Python 3.8.5 64-bit",
   "metadata": {
    "interpreter": {
     "hash": "2db524e06e9f5f4ffedc911c917cb75e12dbc923643829bf417064a77eb14d37"
    }
   }
  }
 },
 "nbformat": 4,
 "nbformat_minor": 2,
 "cells": [
  {
   "cell_type": "code",
   "execution_count": 2,
   "metadata": {},
   "outputs": [],
   "source": [
    "import matplotlib.pyplot as plt\n",
    "import numpy as np\n",
    "import pandas as pd\n",
    "import seaborn as sns\n",
    "\n",
    "\n",
    "# Make numpy printouts easier to read.\n",
    "np.set_printoptions(precision=3, suppress=True)"
   ]
  },
  {
   "cell_type": "code",
   "execution_count": 4,
   "metadata": {},
   "outputs": [
    {
     "output_type": "stream",
     "name": "stdout",
     "text": [
      "2.3.1\n"
     ]
    }
   ],
   "source": [
    "import tensorflow as tf\n",
    "\n",
    "from tensorflow import keras\n",
    "from tensorflow.keras import layers\n",
    "from tensorflow.keras.layers.experimental import preprocessing\n",
    "\n",
    "print(tf.__version__)"
   ]
  },
  {
   "cell_type": "code",
   "execution_count": 7,
   "metadata": {},
   "outputs": [],
   "source": [
    "url = 'https://covid.ourworldindata.org/data/owid-covid-data.csv'\n",
    "column_names = ['iso_code', 'continent', 'location', 'date', 'total_cases',\n",
    "                'new_cases', 'new_cases_smoothed', 'total_deaths', 'new_deaths', 'new_deaths_smoothed',\n",
    "                'total_cases_per_million', 'new_cases_per_million', 'new_cases_smoothed_per_million',\n",
    "                'total_deaths_per_million', 'new_deaths_per_million', 'new_deaths_smoothed_per_million',\n",
    "                'total_tests', 'new_tests', 'total_tests_per_thousand', 'new_tests_per_thousand',\n",
    "                'new_tests_smoothed', 'new_tests_smoothed_per_thousand', 'tests_per_case', 'positive_rate',\n",
    "                'tests_units', 'stringency_index', 'population', 'population_densisity', 'median_age',\n",
    "                'aged_65_older', 'aged_70_older', 'gdp_per_capita', 'extreme_poverty', 'cardiovasc_death_rate',\n",
    "                'diabetes_prevalence', 'female_smokers', 'male_smoker', 'handwashing_facilities',\n",
    "                'hospital_beds_per_thousand', 'life_expectancy', 'human_development_index']\n",
    "\n",
    "raw_dataset = pd.read_csv(url, names=column_names,\n",
    "                          na_values='?', comment='\\t',\n",
    "                          sep=',', skipinitialspace=True)"
   ]
  },
  {
   "cell_type": "code",
   "execution_count": 8,
   "metadata": {},
   "outputs": [
    {
     "output_type": "execute_result",
     "data": {
      "text/plain": [
       "      iso_code continent       location        date total_cases new_cases  \\\n",
       "52218      NaN       NaN  International  2020-10-20         696       NaN   \n",
       "52219      NaN       NaN  International  2020-10-21         696       NaN   \n",
       "52220      NaN       NaN  International  2020-10-22         696       NaN   \n",
       "52221      NaN       NaN  International  2020-10-23         696       NaN   \n",
       "52222      NaN       NaN  International  2020-10-24         696       NaN   \n",
       "\n",
       "      new_cases_smoothed total_deaths new_deaths new_deaths_smoothed  ...  \\\n",
       "52218                NaN            7        NaN                 NaN  ...   \n",
       "52219                NaN            7        NaN                 NaN  ...   \n",
       "52220                NaN            7        NaN                 NaN  ...   \n",
       "52221                NaN            7        NaN                 NaN  ...   \n",
       "52222                NaN            7        NaN                 NaN  ...   \n",
       "\n",
       "      gdp_per_capita extreme_poverty cardiovasc_death_rate  \\\n",
       "52218            NaN             NaN                   NaN   \n",
       "52219            NaN             NaN                   NaN   \n",
       "52220            NaN             NaN                   NaN   \n",
       "52221            NaN             NaN                   NaN   \n",
       "52222            NaN             NaN                   NaN   \n",
       "\n",
       "      diabetes_prevalence female_smokers male_smoker handwashing_facilities  \\\n",
       "52218                 NaN            NaN         NaN                    NaN   \n",
       "52219                 NaN            NaN         NaN                    NaN   \n",
       "52220                 NaN            NaN         NaN                    NaN   \n",
       "52221                 NaN            NaN         NaN                    NaN   \n",
       "52222                 NaN            NaN         NaN                    NaN   \n",
       "\n",
       "      hospital_beds_per_thousand life_expectancy human_development_index  \n",
       "52218                        NaN             NaN                     NaN  \n",
       "52219                        NaN             NaN                     NaN  \n",
       "52220                        NaN             NaN                     NaN  \n",
       "52221                        NaN             NaN                     NaN  \n",
       "52222                        NaN             NaN                     NaN  \n",
       "\n",
       "[5 rows x 41 columns]"
      ],
      "text/html": "<div>\n<style scoped>\n    .dataframe tbody tr th:only-of-type {\n        vertical-align: middle;\n    }\n\n    .dataframe tbody tr th {\n        vertical-align: top;\n    }\n\n    .dataframe thead th {\n        text-align: right;\n    }\n</style>\n<table border=\"1\" class=\"dataframe\">\n  <thead>\n    <tr style=\"text-align: right;\">\n      <th></th>\n      <th>iso_code</th>\n      <th>continent</th>\n      <th>location</th>\n      <th>date</th>\n      <th>total_cases</th>\n      <th>new_cases</th>\n      <th>new_cases_smoothed</th>\n      <th>total_deaths</th>\n      <th>new_deaths</th>\n      <th>new_deaths_smoothed</th>\n      <th>...</th>\n      <th>gdp_per_capita</th>\n      <th>extreme_poverty</th>\n      <th>cardiovasc_death_rate</th>\n      <th>diabetes_prevalence</th>\n      <th>female_smokers</th>\n      <th>male_smoker</th>\n      <th>handwashing_facilities</th>\n      <th>hospital_beds_per_thousand</th>\n      <th>life_expectancy</th>\n      <th>human_development_index</th>\n    </tr>\n  </thead>\n  <tbody>\n    <tr>\n      <th>52218</th>\n      <td>NaN</td>\n      <td>NaN</td>\n      <td>International</td>\n      <td>2020-10-20</td>\n      <td>696</td>\n      <td>NaN</td>\n      <td>NaN</td>\n      <td>7</td>\n      <td>NaN</td>\n      <td>NaN</td>\n      <td>...</td>\n      <td>NaN</td>\n      <td>NaN</td>\n      <td>NaN</td>\n      <td>NaN</td>\n      <td>NaN</td>\n      <td>NaN</td>\n      <td>NaN</td>\n      <td>NaN</td>\n      <td>NaN</td>\n      <td>NaN</td>\n    </tr>\n    <tr>\n      <th>52219</th>\n      <td>NaN</td>\n      <td>NaN</td>\n      <td>International</td>\n      <td>2020-10-21</td>\n      <td>696</td>\n      <td>NaN</td>\n      <td>NaN</td>\n      <td>7</td>\n      <td>NaN</td>\n      <td>NaN</td>\n      <td>...</td>\n      <td>NaN</td>\n      <td>NaN</td>\n      <td>NaN</td>\n      <td>NaN</td>\n      <td>NaN</td>\n      <td>NaN</td>\n      <td>NaN</td>\n      <td>NaN</td>\n      <td>NaN</td>\n      <td>NaN</td>\n    </tr>\n    <tr>\n      <th>52220</th>\n      <td>NaN</td>\n      <td>NaN</td>\n      <td>International</td>\n      <td>2020-10-22</td>\n      <td>696</td>\n      <td>NaN</td>\n      <td>NaN</td>\n      <td>7</td>\n      <td>NaN</td>\n      <td>NaN</td>\n      <td>...</td>\n      <td>NaN</td>\n      <td>NaN</td>\n      <td>NaN</td>\n      <td>NaN</td>\n      <td>NaN</td>\n      <td>NaN</td>\n      <td>NaN</td>\n      <td>NaN</td>\n      <td>NaN</td>\n      <td>NaN</td>\n    </tr>\n    <tr>\n      <th>52221</th>\n      <td>NaN</td>\n      <td>NaN</td>\n      <td>International</td>\n      <td>2020-10-23</td>\n      <td>696</td>\n      <td>NaN</td>\n      <td>NaN</td>\n      <td>7</td>\n      <td>NaN</td>\n      <td>NaN</td>\n      <td>...</td>\n      <td>NaN</td>\n      <td>NaN</td>\n      <td>NaN</td>\n      <td>NaN</td>\n      <td>NaN</td>\n      <td>NaN</td>\n      <td>NaN</td>\n      <td>NaN</td>\n      <td>NaN</td>\n      <td>NaN</td>\n    </tr>\n    <tr>\n      <th>52222</th>\n      <td>NaN</td>\n      <td>NaN</td>\n      <td>International</td>\n      <td>2020-10-24</td>\n      <td>696</td>\n      <td>NaN</td>\n      <td>NaN</td>\n      <td>7</td>\n      <td>NaN</td>\n      <td>NaN</td>\n      <td>...</td>\n      <td>NaN</td>\n      <td>NaN</td>\n      <td>NaN</td>\n      <td>NaN</td>\n      <td>NaN</td>\n      <td>NaN</td>\n      <td>NaN</td>\n      <td>NaN</td>\n      <td>NaN</td>\n      <td>NaN</td>\n    </tr>\n  </tbody>\n</table>\n<p>5 rows × 41 columns</p>\n</div>"
     },
     "metadata": {},
     "execution_count": 8
    }
   ],
   "source": [
    "dataset = raw_dataset.copy()\n",
    "dataset.tail()"
   ]
  },
  {
   "cell_type": "code",
   "execution_count": null,
   "metadata": {},
   "outputs": [],
   "source": []
  }
 ]
}