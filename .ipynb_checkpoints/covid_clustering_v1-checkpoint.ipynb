{
 "cells": [
  {
   "cell_type": "markdown",
   "metadata": {},
   "source": [
    "# Import Statements"
   ]
  },
  {
   "cell_type": "code",
   "execution_count": 204,
   "metadata": {},
   "outputs": [],
   "source": [
    "import numpy as np \n",
    "import matplotlib.pyplot as plt\n",
    "from mpl_toolkits.mplot3d import Axes3D\n",
    "import pandas as pd"
   ]
  },
  {
   "cell_type": "code",
   "execution_count": 32,
   "metadata": {},
   "outputs": [],
   "source": [
    "from sklearn.cluster import KMeans\n",
    "from sklearn.decomposition import PCA\n",
    "from sklearn.metrics import silhouette_score\n",
    "from sklearn.metrics import davies_bouldin_score\n",
    "from sklearn.preprocessing import StandardScaler\n",
    "import itertools"
   ]
  },
  {
   "cell_type": "markdown",
   "metadata": {},
   "source": [
    "# Dataset Importing"
   ]
  },
  {
   "cell_type": "code",
   "execution_count": 98,
   "metadata": {},
   "outputs": [],
   "source": [
    "url = 'covid_data.csv'\n",
    "column_names = ['Country (label)', 'Date (label)', 'new_cases', 'new_deaths', 'new_tests', 'stringency_index', 'population', 'population_density', 'median_age', 'aged_65_older', 'gdp_per_capita', 'cardiovasc_death_rate', 'diabetes_prevalence', 'human_development_index']\n",
    "\n",
    "raw_dataset = pd.read_csv(url, names=column_names, sep=',')"
   ]
  },
  {
   "cell_type": "code",
   "execution_count": 331,
   "metadata": {
    "scrolled": true
   },
   "outputs": [
    {
     "data": {
      "text/html": [
       "<div>\n",
       "<style scoped>\n",
       "    .dataframe tbody tr th:only-of-type {\n",
       "        vertical-align: middle;\n",
       "    }\n",
       "\n",
       "    .dataframe tbody tr th {\n",
       "        vertical-align: top;\n",
       "    }\n",
       "\n",
       "    .dataframe thead th {\n",
       "        text-align: right;\n",
       "    }\n",
       "</style>\n",
       "<table border=\"1\" class=\"dataframe\">\n",
       "  <thead>\n",
       "    <tr style=\"text-align: right;\">\n",
       "      <th></th>\n",
       "      <th>Country (label)</th>\n",
       "      <th>Date (label)</th>\n",
       "      <th>new_cases</th>\n",
       "      <th>new_deaths</th>\n",
       "      <th>new_tests</th>\n",
       "      <th>stringency_index</th>\n",
       "      <th>population</th>\n",
       "      <th>population_density</th>\n",
       "      <th>median_age</th>\n",
       "      <th>aged_65_older</th>\n",
       "      <th>gdp_per_capita</th>\n",
       "      <th>cardiovasc_death_rate</th>\n",
       "      <th>diabetes_prevalence</th>\n",
       "      <th>human_development_index</th>\n",
       "    </tr>\n",
       "  </thead>\n",
       "  <tbody>\n",
       "    <tr>\n",
       "      <th>0</th>\n",
       "      <td>1</td>\n",
       "      <td>1</td>\n",
       "      <td>25.0</td>\n",
       "      <td>0.0</td>\n",
       "      <td>0.0</td>\n",
       "      <td>67.59</td>\n",
       "      <td>38928341</td>\n",
       "      <td>54.422</td>\n",
       "      <td>18.6</td>\n",
       "      <td>2.581</td>\n",
       "      <td>1803.987</td>\n",
       "      <td>597.029</td>\n",
       "      <td>9.59</td>\n",
       "      <td>0.498</td>\n",
       "    </tr>\n",
       "    <tr>\n",
       "      <th>1</th>\n",
       "      <td>1</td>\n",
       "      <td>2</td>\n",
       "      <td>26.0</td>\n",
       "      <td>0.0</td>\n",
       "      <td>0.0</td>\n",
       "      <td>67.59</td>\n",
       "      <td>38928341</td>\n",
       "      <td>54.422</td>\n",
       "      <td>18.6</td>\n",
       "      <td>2.581</td>\n",
       "      <td>1803.987</td>\n",
       "      <td>597.029</td>\n",
       "      <td>9.59</td>\n",
       "      <td>0.498</td>\n",
       "    </tr>\n",
       "    <tr>\n",
       "      <th>2</th>\n",
       "      <td>1</td>\n",
       "      <td>3</td>\n",
       "      <td>43.0</td>\n",
       "      <td>0.0</td>\n",
       "      <td>0.0</td>\n",
       "      <td>67.59</td>\n",
       "      <td>38928341</td>\n",
       "      <td>54.422</td>\n",
       "      <td>18.6</td>\n",
       "      <td>2.581</td>\n",
       "      <td>1803.987</td>\n",
       "      <td>597.029</td>\n",
       "      <td>9.59</td>\n",
       "      <td>0.498</td>\n",
       "    </tr>\n",
       "    <tr>\n",
       "      <th>3</th>\n",
       "      <td>1</td>\n",
       "      <td>4</td>\n",
       "      <td>0.0</td>\n",
       "      <td>0.0</td>\n",
       "      <td>0.0</td>\n",
       "      <td>67.59</td>\n",
       "      <td>38928341</td>\n",
       "      <td>54.422</td>\n",
       "      <td>18.6</td>\n",
       "      <td>2.581</td>\n",
       "      <td>1803.987</td>\n",
       "      <td>597.029</td>\n",
       "      <td>9.59</td>\n",
       "      <td>0.498</td>\n",
       "    </tr>\n",
       "    <tr>\n",
       "      <th>4</th>\n",
       "      <td>1</td>\n",
       "      <td>5</td>\n",
       "      <td>35.0</td>\n",
       "      <td>1.0</td>\n",
       "      <td>0.0</td>\n",
       "      <td>78.70</td>\n",
       "      <td>38928341</td>\n",
       "      <td>54.422</td>\n",
       "      <td>18.6</td>\n",
       "      <td>2.581</td>\n",
       "      <td>1803.987</td>\n",
       "      <td>597.029</td>\n",
       "      <td>9.59</td>\n",
       "      <td>0.498</td>\n",
       "    </tr>\n",
       "  </tbody>\n",
       "</table>\n",
       "</div>"
      ],
      "text/plain": [
       "   Country (label)  Date (label)  new_cases  new_deaths  new_tests  \\\n",
       "0                1             1       25.0         0.0        0.0   \n",
       "1                1             2       26.0         0.0        0.0   \n",
       "2                1             3       43.0         0.0        0.0   \n",
       "3                1             4        0.0         0.0        0.0   \n",
       "4                1             5       35.0         1.0        0.0   \n",
       "\n",
       "   stringency_index  population  population_density  median_age  \\\n",
       "0             67.59    38928341              54.422        18.6   \n",
       "1             67.59    38928341              54.422        18.6   \n",
       "2             67.59    38928341              54.422        18.6   \n",
       "3             67.59    38928341              54.422        18.6   \n",
       "4             78.70    38928341              54.422        18.6   \n",
       "\n",
       "   aged_65_older  gdp_per_capita  cardiovasc_death_rate  diabetes_prevalence  \\\n",
       "0          2.581        1803.987                597.029                 9.59   \n",
       "1          2.581        1803.987                597.029                 9.59   \n",
       "2          2.581        1803.987                597.029                 9.59   \n",
       "3          2.581        1803.987                597.029                 9.59   \n",
       "4          2.581        1803.987                597.029                 9.59   \n",
       "\n",
       "   human_development_index  \n",
       "0                    0.498  \n",
       "1                    0.498  \n",
       "2                    0.498  \n",
       "3                    0.498  \n",
       "4                    0.498  "
      ]
     },
     "execution_count": 331,
     "metadata": {},
     "output_type": "execute_result"
    }
   ],
   "source": [
    "dataset = raw_dataset.copy()\n",
    "dataset.head()"
   ]
  },
  {
   "cell_type": "markdown",
   "metadata": {},
   "source": [
    "# Filtering and Cleaning"
   ]
  },
  {
   "cell_type": "code",
   "execution_count": 352,
   "metadata": {},
   "outputs": [],
   "source": [
    "#Only one unique entry per country\n",
    "dataset = dataset.drop_duplicates(subset='Country (label)').reset_index(drop=True)"
   ]
  },
  {
   "cell_type": "code",
   "execution_count": 353,
   "metadata": {},
   "outputs": [],
   "source": [
    "nulls_per_row = dataset.isnull().sum(axis=1)\n",
    "rows_to_drop = nulls_per_row >= 5\n",
    "\n",
    "dataset = dataset[~rows_to_drop]\n",
    "dataset = dataset.dropna(axis=1)"
   ]
  },
  {
   "cell_type": "markdown",
   "metadata": {},
   "source": [
    "# Clustering Evaluaton and Processing"
   ]
  },
  {
   "cell_type": "code",
   "execution_count": 368,
   "metadata": {},
   "outputs": [],
   "source": [
    "#Number of clusters used in evaluation, will be changed in iterations. Varies from 1 to 100.\n",
    "cluster_number = 1"
   ]
  },
  {
   "cell_type": "code",
   "execution_count": 369,
   "metadata": {},
   "outputs": [],
   "source": [
    "feature_array = dataset.to_numpy()"
   ]
  },
  {
   "cell_type": "code",
   "execution_count": 370,
   "metadata": {},
   "outputs": [
    {
     "data": {
      "text/plain": [
       "(164, 8)"
      ]
     },
     "execution_count": 370,
     "metadata": {},
     "output_type": "execute_result"
    }
   ],
   "source": [
    "#Unsupervised learning, so we only consider the data points and not the labels themselves. Also eliminate new cases, new deaths\n",
    "#new tests, stringency index, don't seem as relevant. Maybe add new cases.\n",
    "feature_array = feature_array[:, 6:]\n",
    "feature_array.shape"
   ]
  },
  {
   "cell_type": "code",
   "execution_count": 312,
   "metadata": {},
   "outputs": [],
   "source": [
    "sc = StandardScaler()"
   ]
  },
  {
   "cell_type": "code",
   "execution_count": 527,
   "metadata": {},
   "outputs": [],
   "source": [
    "combo_list = []\n",
    "inertia_temp = []\n",
    "clu_temp = []\n",
    "\n",
    "for i in range(1, 9):\n",
    "    combo_list.append(list(itertools.combinations(range(8), i)))"
   ]
  },
  {
   "cell_type": "code",
   "execution_count": 528,
   "metadata": {},
   "outputs": [],
   "source": [
    "for j in range(2, 50):\n",
    "    sc.fit(feature_subset)\n",
    "    feature_subset = sc.transform(feature_subset)\n",
    "    kmeans = KMeans(init='k-means++', n_clusters=j, random_state=0).fit(feature_subset)\n",
    "    cluster_labels = kmeans.fit_predict(feature_array)\n",
    "    clu_temp.append(cluster_labels)\n",
    "    inertia_temp.append(kmeans.inertia_)"
   ]
  },
  {
   "cell_type": "code",
   "execution_count": 529,
   "metadata": {},
   "outputs": [
    {
     "data": {
      "image/png": "[encoded data removed]",
      "text/plain": [
       "<Figure size 432x288 with 1 Axes>"
      ]
     },
     "metadata": {
      "needs_background": "light"
     },
     "output_type": "display_data"
    }
   ],
   "source": [
    "#Generic clustering for all features, for elbow method\n",
    "cluster_temp = [i for i in range(2, 50)]\n",
    "plt.plot(cluster_temp, inertia_temp)\n",
    "plt.show()\n",
    "#Elbow method: 5 clusters seems optimal, as per the resulting graph."
   ]
  },
  {
   "cell_type": "code",
   "execution_count": 521,
   "metadata": {},
   "outputs": [
    {
     "data": {
      "text/plain": [
       "<matplotlib.collections.PathCollection at 0x20dc2b669a0>"
      ]
     },
     "execution_count": 521,
     "metadata": {},
     "output_type": "execute_result"
    },
    {
     "data": {
      "image/png": "[encoded data removed]",
      "text/plain": [
       "<Figure size 432x288 with 1 Axes>"
      ]
     },
     "metadata": {
      "needs_background": "light"
     },
     "output_type": "display_data"
    }
   ],
   "source": [
    "pcaModel = PCA(n_components=2)\n",
    "pca_fit = pcaModel.fit_transform(feature_array)\n",
    "plt.scatter(pca_fit[:, 0], pca_fit[:, 1], c=clu_temp[3])"
   ]
  },
  {
   "cell_type": "code",
   "execution_count": 383,
   "metadata": {},
   "outputs": [],
   "source": [
    "cluster_labels_full_list = []\n",
    "silhouette_score_full_list = []"
   ]
  },
  {
   "cell_type": "code",
   "execution_count": 384,
   "metadata": {},
   "outputs": [],
   "source": [
    "for j in range(2, 50):\n",
    "    cluster_number = j\n",
    "    cluster_labels_full_list.append([])\n",
    "    silhouette_score_full_list.append([])\n",
    "    for k in range(len(combo_list)):\n",
    "        feature_subset_list = combo_list[k]\n",
    "        cluster_labels_full_list[j - 2].append([])\n",
    "        silhouette_score_full_list[j - 2].append([])\n",
    "        for l in range(len(feature_subset_list)):\n",
    "            feature_indices = list(feature_subset_list[l])\n",
    "            feature_subset = feature_array[:, feature_indices]\n",
    "            sc.fit(feature_subset)\n",
    "            feature_subset = sc.transform(feature_subset)\n",
    "            kmeans = KMeans(init='k-means++', n_clusters=cluster_number, random_state=0).fit(feature_subset)\n",
    "            cluster_labels = kmeans.fit_predict(feature_array)\n",
    "            sil_score = silhouette_score(feature_subset,cluster_labels)\n",
    "            cluster_labels_full_list[j - 2][k].append(cluster_labels)\n",
    "            silhouette_score_full_list[j - 2][k].append(sil_score)"
   ]
  },
  {
   "cell_type": "code",
   "execution_count": 391,
   "metadata": {},
   "outputs": [],
   "source": [
    "cluster_list = np.tile(np.arange(2, 50),(8,1)).flatten('F').tolist()\n",
    "sil_max_list = []\n",
    "label_assignment_max_list = []\n",
    "feature_subset_max_list = []\n",
    "\n",
    "for w in range(2, 50):\n",
    "    cluster_labels_partial = cluster_labels_full_list[w - 2]\n",
    "    silhouette_score_partial = silhouette_score_full_list[w - 2]\n",
    "    for x in range(len(combo_list)):\n",
    "        feature_subset_list = combo_list[x]\n",
    "        cluster_np = np.asarray(cluster_labels_partial[x])\n",
    "        silhouette_score_np = np.asarray(silhouette_score_partial[x])\n",
    "        sil_max = np.amax(silhouette_score_np)\n",
    "        sil_argmax = np.argmax(silhouette_score_np)\n",
    "        labels_max = cluster_np[sil_argmax, :]\n",
    "        sil_max_list.append(sil_max)\n",
    "        label_assignment_max_list.append(labels_max.tolist())\n",
    "        feature_subset_max_list.append(list(feature_subset_list[sil_argmax]))"
   ]
  },
  {
   "cell_type": "markdown",
   "metadata": {},
   "source": [
    "# Data Visualizations"
   ]
  },
  {
   "cell_type": "code",
   "execution_count": 392,
   "metadata": {},
   "outputs": [
    {
     "data": {
      "text/plain": [
       "<matplotlib.collections.PathCollection at 0x20dc295c100>"
      ]
     },
     "execution_count": 392,
     "metadata": {},
     "output_type": "execute_result"
    },
    {
     "data": {
      "image/png": "[encoded data removed]",
      "text/plain": [
       "<Figure size 432x288 with 1 Axes>"
      ]
     },
     "metadata": {
      "needs_background": "light"
     },
     "output_type": "display_data"
    }
   ],
   "source": [
    "colors = ['red' if x% 8 == 0 else 'green' if x % 8 == 1 else 'blue' if x % 8 == 2 else 'yellow' if x % 8 == 3 \n",
    "            else 'orange' if x%8 == 4 else 'black' if x%8 == 5 else 'purple' if x%8 == 6 else 'brown' for x,v in enumerate(sil_max_list)]\n",
    "plt.scatter(cluster_list, sil_max_list, color=colors)"
   ]
  },
  {
   "cell_type": "code",
   "execution_count": 393,
   "metadata": {},
   "outputs": [],
   "source": [
    "cumulative_max_sil_score = max(sil_max_list)\n",
    "max_label_assignment = label_assignment_max_list[np.argmax(np.asarray(sil_max_list))]\n",
    "max_feature_subset = feature_subset_max_list[np.argmax(np.asarray(sil_max_list))]"
   ]
  },
  {
   "cell_type": "code",
   "execution_count": 395,
   "metadata": {},
   "outputs": [
    {
     "name": "stdout",
     "output_type": "stream",
     "text": [
      "0.9691749073425401\n",
      "[1, 1, 1, 1, 1, 1, 1, 1, 1, 1, 1, 1, 1, 1, 1, 1, 1, 1, 1, 1, 1, 1, 1, 1, 1, 1, 1, 1, 1, 1, 1, 1, 0, 1, 1, 1, 1, 1, 1, 1, 1, 1, 1, 1, 1, 1, 1, 1, 1, 1, 1, 1, 1, 1, 1, 1, 1, 1, 1, 1, 1, 1, 1, 1, 1, 1, 1, 1, 1, 0, 1, 1, 1, 1, 1, 1, 1, 1, 1, 1, 1, 1, 1, 1, 1, 1, 1, 1, 1, 1, 1, 1, 1, 1, 1, 1, 1, 1, 1, 1, 1, 1, 1, 1, 1, 1, 1, 1, 1, 1, 1, 1, 1, 1, 1, 1, 1, 1, 1, 1, 1, 1, 1, 1, 1, 1, 1, 1, 1, 1, 1, 1, 1, 1, 1, 1, 1, 1, 1, 1, 1, 1, 1, 1, 1, 1, 1, 1, 1, 1, 1, 1, 1, 1, 1, 1, 1, 1, 1, 1, 1, 1, 1, 1]\n",
      "[0]\n"
     ]
    }
   ],
   "source": [
    "print(cumulative_max_sil_score)\n",
    "print(max_label_assignment)\n",
    "print(max_feature_subset)"
   ]
  },
  {
   "cell_type": "code",
   "execution_count": 532,
   "metadata": {},
   "outputs": [],
   "source": [
    "#PCA for visualization\n",
    "pcaModel = PCA(n_components=2)\n",
    "pca_fit = pcaModel.fit_transform(feature_array)"
   ]
  },
  {
   "cell_type": "code",
   "execution_count": 533,
   "metadata": {},
   "outputs": [
    {
     "data": {
      "text/plain": [
       "<matplotlib.collections.PathCollection at 0x20dc32d7790>"
      ]
     },
     "execution_count": 533,
     "metadata": {},
     "output_type": "execute_result"
    },
    {
     "data": {
      "image/png": "[encoded data removed]",
      "text/plain": [
       "<Figure size 432x288 with 1 Axes>"
      ]
     },
     "metadata": {
      "needs_background": "light"
     },
     "output_type": "display_data"
    }
   ],
   "source": [
    "unique_labels = np.unique(np.asarray(max_label_assignment))\n",
    "final_cluster_number = unique_labels.shape[0]\n",
    "plt.scatter(pca_fit[:, 0], pca_fit[:, 1], c=max_label_assignment)"
   ]
  },
  {
   "cell_type": "code",
   "execution_count": 407,
   "metadata": {},
   "outputs": [
    {
     "name": "stdout",
     "output_type": "stream",
     "text": [
      "['population']\n",
      "2\n"
     ]
    }
   ],
   "source": [
    "max_features_qualitative = dataset.columns[(np.asarray(max_feature_subset) + 6).tolist()]\n",
    "max_features_qualitative_list = list(max_features_qualitative)\n",
    "print(max_features_qualitative_list)\n",
    "print(final_cluster_number)"
   ]
  },
  {
   "cell_type": "code",
   "execution_count": 440,
   "metadata": {},
   "outputs": [],
   "source": [
    "#PCA Feature Reduction\n",
    "cluster_labels_full_PCA = []\n",
    "silhouette_score_full_PCA = []"
   ]
  },
  {
   "cell_type": "code",
   "execution_count": 441,
   "metadata": {},
   "outputs": [],
   "source": [
    "for j in range(2, 50):\n",
    "    cluster_number = j\n",
    "    cluster_labels_full_PCA.append([])\n",
    "    silhouette_score_full_PCA.append([])\n",
    "    for k in range(1,9):\n",
    "        pcaModel = PCA(n_components=k)\n",
    "        pca_fit = pcaModel.fit_transform(feature_array)\n",
    "        sc.fit(pca_fit)\n",
    "        feature_subset = sc.transform(pca_fit)\n",
    "        kmeans = KMeans(init='k-means++', n_clusters=j, random_state=0).fit(pca_fit)\n",
    "        cluster_labels = kmeans.fit_predict(feature_array)\n",
    "        sil_score = silhouette_score(pca_fit,cluster_labels)\n",
    "        cluster_labels_full_PCA[j - 2].append(cluster_labels)\n",
    "        silhouette_score_full_PCA[j - 2].append(sil_score)"
   ]
  },
  {
   "cell_type": "code",
   "execution_count": 465,
   "metadata": {},
   "outputs": [],
   "source": [
    "cluster_list = np.tile(np.arange(2, 50),(8,1)).flatten('F').tolist()\n",
    "sil_PCA_temp = np.asarray(silhouette_score_full_PCA).flatten().tolist()"
   ]
  },
  {
   "cell_type": "code",
   "execution_count": 467,
   "metadata": {},
   "outputs": [
    {
     "data": {
      "text/plain": [
       "<matplotlib.collections.PathCollection at 0x20dc2e45ee0>"
      ]
     },
     "execution_count": 467,
     "metadata": {},
     "output_type": "execute_result"
    },
    {
     "data": {
      "image/png": "[encoded data removed]",
      "text/plain": [
       "<Figure size 432x288 with 1 Axes>"
      ]
     },
     "metadata": {
      "needs_background": "light"
     },
     "output_type": "display_data"
    }
   ],
   "source": [
    "colors3 = ['red' if x% 8 == 0 else 'green' if x % 8 == 1 else 'blue' if x % 8 == 2 else 'yellow' if x % 8 == 3 \n",
    "            else 'orange' if x%8 == 4 else 'black' if x%8 == 5 else 'purple' if x%8 == 6 else 'red' for x,v in enumerate(sil_PCA_temp)]\n",
    "plt.scatter(cluster_list, silhouette_score_full_PCA, color=colors3)"
   ]
  },
  {
   "cell_type": "code",
   "execution_count": 509,
   "metadata": {},
   "outputs": [],
   "source": [
    "cumulative_max_sil_score_PCA = np.max(np.asarray(silhouette_score_full_PCA))\n",
    "arg_max = np.argmax(np.asarray(silhouette_score_full_PCA).flatten())\n",
    "max_label_assignment_PCA = np.asarray(cluster_labels_full_PCA)[arg_max%8, arg_max//8]\n",
    "best_number_features = (arg_max % 8) + 1\n",
    "final_cluster_number = (argmax//8) + 2"
   ]
  },
  {
   "cell_type": "code",
   "execution_count": 513,
   "metadata": {},
   "outputs": [
    {
     "name": "stdout",
     "output_type": "stream",
     "text": [
      "0.9691749073272797\n",
      "[1 1 1 1 1 1 1 1 1 1 1 1 1 1 1 1 1 1 1 1 1 1 1 1 1 1 1 1 1 1 1 1 0 1 1 1 1\n",
      " 1 1 1 1 1 1 1 1 1 1 1 1 1 1 1 1 1 1 1 1 1 1 1 1 1 1 1 1 1 1 1 1 0 1 1 1 1\n",
      " 1 1 1 1 1 1 1 1 1 1 1 1 1 1 1 1 1 1 1 1 1 1 1 1 1 1 1 1 1 1 1 1 1 1 1 1 1\n",
      " 1 1 1 1 1 1 1 1 1 1 1 1 1 1 1 1 1 1 1 1 1 1 1 1 1 1 1 1 1 1 1 1 1 1 1 1 1\n",
      " 1 1 1 1 1 1 1 1 1 1 1 1 1 1 1 1]\n"
     ]
    }
   ],
   "source": [
    "print(cumulative_max_sil_score_PCA)\n",
    "print(max_label_assignment_PCA)"
   ]
  },
  {
   "cell_type": "code",
   "execution_count": 511,
   "metadata": {},
   "outputs": [],
   "source": [
    "#PCA for visualization\n",
    "pcaModel = PCA(n_components=2)\n",
    "pca_fit = pcaModel.fit_transform(feature_array)"
   ]
  },
  {
   "cell_type": "code",
   "execution_count": 512,
   "metadata": {},
   "outputs": [
    {
     "data": {
      "text/plain": [
       "<matplotlib.collections.PathCollection at 0x20dc2ee84f0>"
      ]
     },
     "execution_count": 512,
     "metadata": {},
     "output_type": "execute_result"
    },
    {
     "data": {
      "image/png": "[encoded data removed]",
      "text/plain": [
       "<Figure size 432x288 with 1 Axes>"
      ]
     },
     "metadata": {
      "needs_background": "light"
     },
     "output_type": "display_data"
    }
   ],
   "source": [
    "plt.scatter(pca_fit[:, 0], pca_fit[:, 1], c=max_label_assignment_PCA)"
   ]
  },
  {
   "cell_type": "code",
   "execution_count": 515,
   "metadata": {},
   "outputs": [
    {
     "name": "stdout",
     "output_type": "stream",
     "text": [
      "1\n",
      "2\n"
     ]
    }
   ],
   "source": [
    "best_number_features = (arg_max % 8) + 1\n",
    "final_cluster_number = (arg_max//8) + 2\n",
    "print(best_number_features)\n",
    "print(final_cluster_number)"
   ]
  },
  {
   "cell_type": "markdown",
   "metadata": {},
   "source": [
    "# Unsupervised Learning Conclusion"
   ]
  },
  {
   "cell_type": "markdown",
   "metadata": {},
   "source": [
    "When all features are considered, optimal clustering occurs with 5 clusters. This optimality has been measured by the elbow method in comparing the number of clusters to inertia.\n",
    "\n",
    "When all subset of features are considered, the most optimal clustering occurs when only one feature is considered - 'population' - with 2 clusters. The cluster assignment is indicated as per the first PCA plot graph, and the resulting maximum silhouette score is 0.9691749073425401.\n",
    "\n",
    "When PCA dimensionality reduction is applied (number of features changed from 1 to 8), most optimal clustering occurs when the data is reduced to just one feature - with 2 clusters. The cluster assigment is indicated as per the second PCA plot graph, and the resulting maximum silhouette score is 0.9691749073272797."
   ]
  }
 ],
 "metadata": {
  "kernelspec": {
   "display_name": "Python 3",
   "language": "python",
   "name": "python3"
  },
  "language_info": {
   "codemirror_mode": {
    "name": "ipython",
    "version": 3
   },
   "file_extension": ".py",
   "mimetype": "text/x-python",
   "name": "python",
   "nbconvert_exporter": "python",
   "pygments_lexer": "ipython3",
   "version": "3.8.1"
  }
 },
 "nbformat": 4,
 "nbformat_minor": 4
}
